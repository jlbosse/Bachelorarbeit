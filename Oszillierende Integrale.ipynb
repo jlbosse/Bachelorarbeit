{
 "cells": [
  {
   "cell_type": "markdown",
   "metadata": {},
   "source": [
    "# Mehr zum \"halben\" Limes in oszillierenden Integralen\n",
    "\n",
    "## Das Problem (in der einfachsten, 1-Dimensionalen Form):\n",
    "In quasi all meinen Rechnungen lande ich am Ende an einem Punkt wo es so aussieht:\n",
    "\n",
    "\\begin{equation}\n",
    "    f_n(x) \\rightarrow f(x) ~~\\textrm{ punktweise f.ü. und }~~ |f_n(x)| < g(x) ~~\\forall x~ \\forall n~ \\textrm{mit $g$ integrierbar}~~\\\\\n",
    "\\end{equation}\n",
    "\n",
    "und ich interessiere mich dafür, wie schnell das Integral $\\int f_n(x) e^{inkx} dx$ als Funktion von $ n $ abfällt (Es reicht nicht, zu wissen, dass am Ende null raus kommt. Wir wollen auch wissen, wie schnell wir gegen null gehen!). Am einfachsten wäre es zu schreiben\n",
    "\n",
    "\\begin{equation}\n",
    "    \\int f_n(x) e^{inkx} dx \\rightarrow \\int f(x) e^{inkx} dx\n",
    "\\end{equation}\n",
    "\n",
    "Aber diese Gleichheit gilt sicherlicht nicht für alle Funktionenfolgen $f_n$. Siehe Gegenbeispiel weiter unten.\n"
   ]
  },
  {
   "cell_type": "markdown",
   "metadata": {},
   "source": [
    "\n",
    "### Beispiel, wo Kutyniok et al eine Abschätzung von genau der Form machen:\n",
    "In dem Paper \"Resolution of the wavefrontset using shearlets\" auf Seite 13 in den letzten Gleichungen schreiben sie \"For $a << 1$\" we have ...\" und schreiben dann statt dem kompletten $f_n$ nur eine Näherung für \"a << 1\" (entspricht $n \\to \\infty$) hin, ohne etwas an dem $e$- Faktor zu ändern. Statt $n \\to \\infty$ wird hier das äquivalente $a \\to 0$ betrachtet."
   ]
  },
  {
   "cell_type": "markdown",
   "metadata": {},
   "source": [
    "### Einfachstes Beispiel dafür aus meiner Bachelorarbeit\n",
    "In dem angehängten PDF auf Seite 11, Abschnitt \"Fall s<1\". Statt $n \\to \\infty$ wird hier das äquivalente $a \\to 0$ betrachtet.    "
   ]
  },
  {
   "cell_type": "markdown",
   "metadata": {},
   "source": [
    "### Noch problematischerer Fall\n",
    "Im folgenden betrachte $a \\to 0$ statt $n \\to \\infty$, da es von der Notation einfacher ist.\n",
    "\n",
    "Im Fall der Wellenfrontmenge der verdrehten Faltung erhalte ich (nach Taylorentwicklung des Exponenten) Ausdrücke der Form\n",
    "\n",
    "$$\n",
    "\\lim_{a \\to 0} \\int f_a(x) e^{ia^{-p} (c_1 + a^q c_2 + o(a^q))kx } dx\n",
    "$$\n",
    "\n",
    "wobei $p$ und $q$ Positive Potenzen sind, aber *nicht* $p < q$ gelten muss! Dennoch würde ich gerne nur den führenden Term $c_1$ des Polynoms im Exponenten mitnehmen, da dieser ja für $a \\to 0$ schneller oszilliert, als all die anderen (wenn man die $e$-Funktion als Produkt schreibt). "
   ]
  },
  {
   "cell_type": "markdown",
   "metadata": {},
   "source": [
    "### Ein Lösungsansatz (sicher nicht für alle Fälle geeignet!)\n",
    "Schreibe (so es denn möglich ist) im Geiste einer Taylorentwicklung $f_n(x) = f(x) + \\frac{1}{n}^p g_n(x)$ wobei $f$ der punktweise  Limes von $f_n$ ist, $p$ eine *positive* Potenz und $g_n(x)$ implizit definert ist, so dass die Gleichung stimmt. Erhalte dann $\\int f_n(x) e^{inkx} dx = \\int f(x) e^{inkx} dx +  \\frac{1}{n}^p \\int g_n(x) e^{inkx} dx$. Jetzt *muss* ich aber abschätzen können, dass die Kovergenzgeschwindigkeit der rechten Seite für $ n \\to \\infty $ dominiert wird durch den ersten Term der linken Seite. Das ist nicht ohne weiteres möglich, sondern erfordert dass $g_n$ in irgend einer Weise regulärer ist, als $f$.\n",
    "\n",
    "**Beispiel, wo es *nicht* funktioniert**\n",
    "\n",
    "Sei $f_n(x) = f(x) + \\frac{1}{n} \\chi_{[-1,1]}(x)$ mit $f \\in \\mathcal{S}(\\mathbb{R})$. Dann ist \n",
    "\\begin{align}\n",
    "\\int f_n(x) e^{inkx} dx &= \\int f(x) e^{inkx} dx +  \\frac{1}{n} \\int \\chi_{[-1,1]}(x) e^{inkx} dx\\\\\n",
    " &= \\underbrace{\\hat f (nk)}_{O(n^{-N}) \\forall N \\in \\mathbb{N}} + \\underbrace{\\frac{1}{n} \\mathrm{sinc} (nk)}_{O(n^{-1})}\n",
    "\\end{align}\n",
    "\n",
    "D.h. mit einfachen Ausrechnen des punktweisen Limes ist es sicher nicht getan, es muss auch noch argumentiert werden, warum sich das Abfallverhalten für $n \\to \\infty$ auch in diesem versteckt."
   ]
  },
  {
   "cell_type": "markdown",
   "metadata": {},
   "source": [
    "### Die Fragen:\n",
    "Welche Anforderungen muss ich an $f_n$ stellen, damit ich die gewünschte Abschätzung machen kann? Oder besser: Wie sehe ich $f_n$ welcher \"Teil\" davon nun bei einem solchen Integral für $n \\to \\infty$ dominiert?\n",
    "Gibt es eventuell schon allgemeine Ergebnisse zu solcherart oszillierenden Integralen und deren Grenzwerten?"
   ]
  },
  {
   "cell_type": "code",
   "execution_count": null,
   "metadata": {},
   "outputs": [],
   "source": []
  }
 ],
 "metadata": {
  "kernelspec": {
   "display_name": "SageMath 8.1",
   "language": "",
   "name": "sagemath"
  },
  "language_info": {
   "codemirror_mode": {
    "name": "ipython",
    "version": 2
   },
   "file_extension": ".py",
   "mimetype": "text/x-python",
   "name": "python",
   "nbconvert_exporter": "python",
   "pygments_lexer": "ipython2",
   "version": "2.7.14"
  }
 },
 "nbformat": 4,
 "nbformat_minor": 2
}
