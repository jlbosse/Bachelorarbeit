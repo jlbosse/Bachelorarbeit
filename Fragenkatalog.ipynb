{
 "cells": [
  {
   "cell_type": "markdown",
   "metadata": {},
   "source": [
    "# Fragenkatalog"
   ]
  },
  {
   "cell_type": "markdown",
   "metadata": {},
   "source": [
    "\n",
    "### Was macht man mit lästigen Vorfaktoren?\n",
    "In all meinen Rechnungen bin ich ja am Ende nur irgendwelchen Proportionalitäten interessiert und Vorfaktoren von $2 \\pi$ aus Faltungsssätzen oder andere Konstanten sind irrelevant. Was macht man mit diesen in einem ordentlichen Aufschrieb? Fein säuberlich Buch führen? Ein allgemeines $C$ einführen, was in jeder Zeile seinen Wert ändert und diese absorbiert? Am Anfang des Textes oder jedes Abschnitts eine Bemerkung schreiben, dass die folgenden Rechnungen nur bis auf Vorfaktoren richtig sind?\n",
    "\n",
    "\n",
    "\n",
    "\n"
   ]
  },
  {
   "cell_type": "markdown",
   "metadata": {},
   "source": [
    "### Warum die Twisted Convolution?\n",
    "Ich habe leider bisher keine (einfach lesbare) Quelle gefunden, die erklärt, was man sich von der Twisted Convolution verspricht und warum diese letzten Endes die selbe Physik produziert (Tut sie das überhaupt?). Können sie da vllt einen Text empfehlen?"
   ]
  },
  {
   "cell_type": "markdown",
   "metadata": {},
   "source": [
    "\n",
    "### Bisherige Ergebnisse zu Wellenfrontmengen\n",
    "Zu welchen Distributionen, deren Wellenfrontmengen ich schon berechnet habe gibt es schon Ergebnisse und wo finde ich diese, um die Ergebnisse zu vergleichen?\n",
    "\n"
   ]
  },
  {
   "cell_type": "markdown",
   "metadata": {},
   "source": [
    "###  Lebesgue mit \"halbem\" Limes verwenden?\n",
    "In quasi all meinen Rechnungen lande ich am Ende an einem Punkt wo es so aussieht:\n",
    "\n",
    "\\begin{equation}\n",
    "    f_n(x) \\rightarrow f(x) ~~\\textrm{ punktweise und }~~ |f_n(x)| < g(x) ~~\\forall x~ \\forall n~ \\textrm{mit $g$ integrierbar}~~\\\\\n",
    "    \\Rightarrow \\int f_n(x) e^{inkx} dx \\rightarrow \\int f(x) e^{inkx} dx\n",
    "\\end{equation}\n",
    "\n",
    "Leider funktioniert Lebesgue so nicht ganz, ich nehme ja den Limes nur in $f_n$ aber nicht in $e^{inkx}$ (der existiert ja gar nicht...). Was mache ich hier also, um diese Verwendung zu rechtfertigen (intuitiv scheint sie ja auch nicht falsch zu sein und liefert die richtigen Ergebnisse? Gibt es da noch andere Versionen von Lebesgue?"
   ]
  },
  {
   "cell_type": "markdown",
   "metadata": {},
   "source": [
    "### Lebesgue mit Hauptwertintegral verwenden\n",
    "Habe eine Folge von Funktionen $f_n(x) \\rightarrow f(x) = \\frac{g(x)}{x}$ punktweise beinahe überall s.d.\n",
    "$|f_n(x)| \\leq \\left|2\\frac{g(x)}{x}\\right|$ und das Integral $\\int 2\\frac{g(x)}{x} ~dx$ existiert als Hauptwert. (Sogar $g(x) \\in C^\\infty_c(\\mathbb{R}^n$))\n",
    "\n",
    "Jetzt brauche ich $\\int f_n(x) ~dx \\rightarrow \\int f(x) ~dx = \\int \\frac{g(x)}{x} ~dx$, aber Lebesgue tut es hier nicht ganz, da $\\int \\left|\\frac{g(x)}{x}\\right| dx$ ganz offensichtlich nicht existiert. Nur $\\int \\frac{g(x)}{x} ~dx$ existiert, und auch nur als Hautpwertintegral.\n",
    "\n",
    "Wie gehe ich damit um? Gibt es eine Variante von Lebesgue die mir erlaubt, die gewünschte Folgerung hier zu ziehen?\n",
    "\n",
    "**Gedanke 1**\n",
    "Das Lebesgue-Integral kann gar nicht mit $\\infty - \\infty$ umgehen -- und genau das ist ja der Grund, warum wir sagen, dass das Integral doch irgendwie existiert. Das macht es wahrscheinlich sehr schwer dem ganzen Bedeutung im Lebesgue-Sinne zu geben.\n",
    "\n",
    "**Gedanke 2**\n",
    "Shearlets sind Schwartzfunktionen und die Distributionen, bei denen ich auf dieses Problem gestoßen bin ($\\hat G_F = \\lim_{\\epsilon \\rightarrow 0} \\frac{1}{m^2-\\omega^2+k^2-i\\epsilon}$) sind doch temperierte Distributionen? Also hätte ich gar nicht erst in der ganzen Misere landen dürfen?\n",
    "\n",
    "**Antwort auf Gedanke 2**\n",
    "Doch, ich darf in der Misere landen! $\\hat G_F$ ist ja eine Distribution und $<\\hat G_f, f>$ ist nicht als Skalarprodukt, sondern als duale Paarung zu verstehen. Nur ist halt $\\hat G_F$ keine glatte Distribution (bei $\\omega^2 = k^2 + m^2$) und demnach die Schreibweise der dualen Paarung als Integral erstmal nicht wohldefiniert. Also muss man hier im Sinne von Distrubtionen argumentieren, nicht als ein Integral.\n"
   ]
  },
  {
   "cell_type": "markdown",
   "metadata": {},
   "source": [
    "### Wie sieht es jetzt mit den String localized Feldern aus\n",
    "Haben sie mittlerweile etwas zu den String localized quantum fields gefunden, was auch in 2D möglich ist, und sich untersuchen lässt?"
   ]
  },
  {
   "cell_type": "markdown",
   "metadata": {},
   "source": [
    "### Last but not least: Quo vadis?\n",
    "Ich werde vorraussichtlich ab Anfang August ein Semester in Singapur verbringen und würde gerne nach Möglichkeit bis dahin beide Arbeiten fertig kriegen (So möglich). Worin werden sich die Physik und die Mathe-Arbeit genau unterscheiden.\n",
    "Bisher habe ich schon angefangen die bisherigen Rechnungen schon mal zu texen."
   ]
  },
  {
   "cell_type": "code",
   "execution_count": 1,
   "metadata": {},
   "outputs": [],
   "source": [
    "%display latex"
   ]
  },
  {
   "cell_type": "code",
   "execution_count": 4,
   "metadata": {},
   "outputs": [],
   "source": [
    "x, e = var('x epsilon')\n",
    "G(x,e) = 1/(x+i*e)"
   ]
  },
  {
   "cell_type": "code",
   "execution_count": 11,
   "metadata": {},
   "outputs": [
    {
     "data": {
      "image/png": "[encoded data removed]",
      "text/plain": [
       "Graphics object consisting of 2 graphics primitives"
      ]
     },
     "execution_count": 11,
     "metadata": {},
     "output_type": "execute_result"
    }
   ],
   "source": [
    "plot(imag(G(x,0.001))) +\\\n",
    "plot(real(G(x,0.001)),color='red')"
   ]
  },
  {
   "cell_type": "code",
   "execution_count": null,
   "metadata": {},
   "outputs": [],
   "source": []
  }
 ],
 "metadata": {
  "kernelspec": {
   "display_name": "SageMath 8.2",
   "language": "",
   "name": "sagemath"
  },
  "language_info": {
   "codemirror_mode": {
    "name": "ipython",
    "version": 2
   },
   "file_extension": ".py",
   "mimetype": "text/x-python",
   "name": "python",
   "nbconvert_exporter": "python",
   "pygments_lexer": "ipython2",
   "version": "2.7.15"
  }
 },
 "nbformat": 4,
 "nbformat_minor": 2
}
