{
 "cells": [
  {
   "cell_type": "markdown",
   "metadata": {},
   "source": [
    "# Fragenkatalog"
   ]
  },
  {
   "cell_type": "markdown",
   "metadata": {},
   "source": [
    "\n",
    "### Was macht man mit lästigen Vorfaktoren?\n",
    "In all meinen Rechnungen bin ich ja am Ende nur irgendwelchen Proportionalitäten interessiert und Vorfaktoren von $2 \\pi$ aus Faltungsssätzen oder andere Konstanten sind irrelevant. Was macht man mit diesen in einem ordentlichen Aufschrieb? Fein säuberlich Buch führen? Ein allgemeines $C$ einführen, was in jeder Zeile seinen Wert ändert und diese absorbiert? Am Anfang des Textes oder jedes Abschnitts eine Bemerkung schreiben, dass die folgenden Rechnungen nur bis auf Vorfaktoren richtig sind?\n",
    "\n",
    "\n",
    "\n",
    "\n"
   ]
  },
  {
   "cell_type": "markdown",
   "metadata": {},
   "source": [
    "### Warum die Twisted Convolution?\n",
    "Ich habe leider bisher keine (einfach lesbare) Quelle gefunden, die erklärt, was man sich von der Twisted Convolution verspricht und warum diese letzten Endes die selbe Physik produziert (Tut sie das überhaupt?). Können sie da vllt einen Text empfehlen?"
   ]
  },
  {
   "cell_type": "markdown",
   "metadata": {},
   "source": [
    "\n",
    "### Bisherige Ergebnisse zu Wellenfrontmengen\n",
    "Zu welchen Distributionen, deren Wellenfrontmengen ich schon berechnet habe gibt es schon Ergebnisse und wo finde ich diese, um die Ergebnisse zu vergleichen?\n",
    "\n"
   ]
  },
  {
   "cell_type": "markdown",
   "metadata": {},
   "source": [
    "###  _Lebesgue_ mit \"halbem\" Limes verwenden?\n",
    "In quasi all meinen Rechnungen lande ich am Ende an einem Punkt wo es so aussieht:\n",
    "\n",
    "\\begin{equation}\n",
    "    f_n(x) \\rightarrow f(x) ~~\\textrm{ punktweise und }~~ |f_n(x)| < g(x) ~~\\forall x~ \\forall n~ \\textrm{mit $g$ integrierbar}~~\\\\\n",
    "    \\Rightarrow \\int f_n(x) e^{inkx} dx \\rightarrow \\int f(x) e^{inkx} dx\n",
    "\\end{equation}\n",
    "\n",
    "Leider funktioniert Lebesgue so nicht ganz, ich nehme ja den Limes nur in $f_n$ aber nicht in $e^{inkx}$ (der existiert ja gar nicht...). Was mache ich hier also, um diese Verwendung zu rechtfertigen (intuitiv scheint sie ja auch nicht falsch zu sein und liefert die richtigen Ergebnisse? Gibt es da noch andere Versionen von Lebesgue?"
   ]
  },
  {
   "cell_type": "markdown",
   "metadata": {},
   "source": [
    "### Lebesgue mit Hauptwertintegral verwenden\n",
    "siehe https://math.stackexchange.com/questions/2808685/lebesgue-dominated-convergence-with-a-principal-value-integral. (Kann gut sein, dass sich das jetzt schon geklärt hat)"
   ]
  },
  {
   "cell_type": "markdown",
   "metadata": {},
   "source": [
    "### Wie sieht es jetzt mit den String localized Feldern aus\n",
    "Haben sie mittlerweile etwas zu den String localized quantum fields gefunden, was auch in 2D möglich ist, und sich untersuchen lässt?"
   ]
  },
  {
   "cell_type": "markdown",
   "metadata": {},
   "source": [
    "### Last but not least: Quo vadis?\n",
    "Ich werde vorraussichtlich ab Anfang August ein Semester in Singapur verbringen und würde gerne nach Möglichkeit bis dahin beide Arbeiten fertig kriegen (So möglich). Worin werden sich die Physik und die Mathe-Arbeit genau unterscheiden.\n",
    "Bisher habe ich schon angefangen die bisherigen Rechnungen schon mal zu texen."
   ]
  },
  {
   "cell_type": "code",
   "execution_count": null,
   "metadata": {},
   "outputs": [],
   "source": []
  }
 ],
 "metadata": {
  "kernelspec": {
   "display_name": "SageMath 8.2",
   "language": "",
   "name": "sagemath"
  },
  "language_info": {
   "codemirror_mode": {
    "name": "ipython",
    "version": 2
   },
   "file_extension": ".py",
   "mimetype": "text/x-python",
   "name": "python",
   "nbconvert_exporter": "python",
   "pygments_lexer": "ipython2",
   "version": "2.7.15"
  }
 },
 "nbformat": 4,
 "nbformat_minor": 2
}
