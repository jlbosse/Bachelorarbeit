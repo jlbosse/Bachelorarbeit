{
 "cells": [
  {
   "cell_type": "code",
   "execution_count": 1,
   "metadata": {},
   "outputs": [],
   "source": [
    "#Plotten\n",
    "import matplotlib.pyplot as plt\n",
    "import matplotlib\n",
    "from matplotlib.backends.backend_pdf import PdfPages\n",
    "%matplotlib inline\n",
    "\n",
    "#Numerisches Rechnen\n",
    "import numpy as np\n",
    "\n",
    "plt.rc('font', **{'family': 'serif', 'serif': ['Computer Modern']})\n",
    "plt.rc('text', usetex=True)"
   ]
  },
  {
   "cell_type": "code",
   "execution_count": 2,
   "metadata": {},
   "outputs": [],
   "source": [
    "def figsize(scale):\n",
    "    fig_width_pt = 469.755                          # Get this from LaTeX using \\the\\textwidth\n",
    "    inches_per_pt = 1.0/72.27                       # Convert pt to inch\n",
    "    golden_mean = (np.sqrt(5.0)-1.0)/2.0            # Aesthetic ratio (you could change this)\n",
    "    fig_width = fig_width_pt*inches_per_pt*scale    # width in inches\n",
    "    fig_height = fig_width*golden_mean              # height in inches\n",
    "    fig_size = [fig_width,fig_height]\n",
    "    return fig_size\n",
    "\n",
    "\n",
    "pgf_with_latex = {                      # setup matplotlib to use latex for output\n",
    "    \"pgf.texsystem\": \"pdflatex\",        # change this if using xetex or lautex\n",
    "    \"text.usetex\": True,                # use LaTeX to write all text\n",
    "    \"font.family\": \"serif\",\n",
    "    \"font.serif\": [],                   # blank entries should cause plots\n",
    "                                        #to inherit fonts from the document\n",
    "    \"font.sans-serif\": [],\n",
    "    \"font.monospace\": [],\n",
    "    \"axes.labelsize\": 10,               # LaTeX default is 10pt font.\n",
    "    \"font.size\": 10,\n",
    "    \"legend.fontsize\": 10,               # Make the legend/label fonts a little smaller\n",
    "    \"xtick.labelsize\": 10,\n",
    "    \"ytick.labelsize\": 10,\n",
    "    \"pgf.rcfonts\" : False,\n",
    "    \"lines.linewidth\" : 0.5,\n",
    "    \"axes.linewidth\" : 0.5,\n",
    "#    \"axes.linestyle\" : '.',\n",
    "    \"axes.spines.right\" : False,\n",
    "    \"axes.spines.top\" : False,\n",
    "    \"axes.grid\"           : False,\n",
    "    \"grid.linestyle\": 'dotted',\n",
    "    \"grid.color\"       :   '#808080',\n",
    "    \"legend.frameon\" : True,\n",
    "    \"axes.prop_cycle\" : plt.cycler('color', ['#e41a1c', '#377eb8', '#4daf4a', '#984ea3', '#ff7f00']),\n",
    "\n",
    "    \"figure.figsize\": figsize(1.0),     # default fig size of 0.9 textwidth\n",
    "    \"pgf.preamble\": [\n",
    "        r\"\\usepackage[utf8x]{inputenc}\",    # use utf8 fonts becasue your computer can handle it :)\n",
    "        r\"\\usepackage[T1]{fontenc}\",       # plots will be generated using this preamble\n",
    "        r\"\\usepackage{amssymb}\",\n",
    "        ]\n",
    "    }\n",
    "\n",
    "plt.matplotlib.rcParams.update(pgf_with_latex)\n",
    "\n",
    "colors = ['#e41a1c', '#377eb8', '#4daf4a', '#984ea3', '#ff7f00']"
   ]
  },
  {
   "cell_type": "code",
   "execution_count": 3,
   "metadata": {},
   "outputs": [],
   "source": [
    "def arrowed_spines(ax=None, arrow_length=5, labels=('', ''), arrowprops=None):\n",
    "    xlabel, ylabel = labels\n",
    "    if ax is None:\n",
    "        ax = plt.gca()\n",
    "    if arrowprops is None:\n",
    "        arrowprops = dict(arrowstyle='<-', facecolor='black', linewidth='0.5', shrinkB=20)\n",
    "\n",
    "    for i, spine in enumerate(['left', 'bottom']):\n",
    "        # Set up the annotation parameters\n",
    "        t = ax.spines[spine].get_transform()\n",
    "        xy, xycoords = [1, 0], ('axes fraction', t)\n",
    "        xytext, textcoords = [arrow_length , 0], ('offset points', t)\n",
    "        ha, va = 'left', 'bottom'\n",
    "\n",
    "        # If axis is reversed, draw the arrow the other way\n",
    "        bottom, top = ax.spines[spine].axis.get_view_interval()\n",
    "        if top < bottom:\n",
    "            xy[0] = 0\n",
    "            xytext[0] *= -1\n",
    "            ha, va = 'right', 'top'\n",
    "\n",
    "        if spine is 'bottom':\n",
    "            xarrow = ax.annotate(xlabel, xy, xycoords=xycoords, xytext=xytext, \n",
    "                        textcoords=textcoords, ha=ha, va='center',\n",
    "                        arrowprops=arrowprops, annotation_clip=True)\n",
    "        else:\n",
    "            yarrow = ax.annotate(ylabel, xy[::-1], xycoords=xycoords[::-1], \n",
    "                        xytext=xytext[::-1], textcoords=textcoords[::-1], \n",
    "                        ha='center', va=va, arrowprops=arrowprops)\n",
    "    return xarrow, yarrow"
   ]
  },
  {
   "cell_type": "code",
   "execution_count": 4,
   "metadata": {},
   "outputs": [],
   "source": [
    "def draw_support(ax, a=1, s=0, t=(0,0)):\n",
    "    vertices = np.array([[(s-np.sqrt(a))/(2*a), 1/(2*a)],\n",
    "                [(s+np.sqrt(a))/(2*a), 1/(2*a)],\n",
    "                [2*(s+np.sqrt(a))/a, 2/a],\n",
    "                [2*(s-np.sqrt(a))/a, 2/a]])\n",
    "#    label=r'$supp ~(\\hat\\psi_{ast})$' + '\\n' + r'$a = $ ' + str(a) + '\\n' +  r'$s = $ ' + str(s)\n",
    "#    supp = matplotlib.patches.Polygon(vertices, True, lw=0.5)\n",
    "    ax.fill(vertices[0:,0],vertices[0:,1], lw=0.5, ls='-',fc=(0.5, 0.5, 0.5, 0.5), ec='black', fill=True, aa=True)\n",
    "#    ax.fill(-vertices[0:,0],-vertices[0:,1], lw=0.5, ls='-',fc=(0.5, 0.5, 0.5, 0.5), ec='black', fill=True, aa=True)\n",
    "#    ax.text(4*s/(3*a),4/(3*a), label,  fontsize=10, color=\"black\",horizontalalignment='center',verticalalignment='center')\n",
    "def supp_center_coords(a,s):\n",
    "    return(4*s/(3*a),4/(3*a))"
   ]
  },
  {
   "cell_type": "markdown",
   "metadata": {},
   "source": [
    "# Schlaue Zerlegung"
   ]
  },
  {
   "cell_type": "code",
   "execution_count": 5,
   "metadata": {},
   "outputs": [
    {
     "name": "stdout",
     "output_type": "stream",
     "text": [
      "0.5000000000000001\n"
     ]
    }
   ],
   "source": [
    "def smooth_runter(x):\n",
    "    return 0.5+0.5*np.cos(np.pi*(-0.5+0.5*np.cos(np.pi*x)))\n",
    "#    return 1/(1+np.exp(0.5-2*x))\n",
    "print(smooth_runter(0.5))"
   ]
  },
  {
   "cell_type": "code",
   "execution_count": 6,
   "metadata": {},
   "outputs": [
    {
     "data": {
      "image/png": "[encoded data removed]",
      "text/plain": [
       "<matplotlib.figure.Figure at 0x7f5857568a90>"
      ]
     },
     "metadata": {},
     "output_type": "display_data"
    }
   ],
   "source": [
    "x = np.linspace(-10,10,1000)\n",
    "\n",
    "psi = 2*np.exp(-(1.5*(x-0.5))**2)\n",
    "psif = np.zeros_like(x)\n",
    "psif[400:450] = smooth_runter(np.linspace(-1,0,50))\n",
    "psif[450:550] = 1\n",
    "psif[550:600] = smooth_runter(np.linspace(0,1,50))\n",
    "psifminus = 1-psif\n",
    "\n",
    "#delta_m2_data[0:200] = 0.0\n",
    "fig, ax = plt.subplots(figsize=(4,2.2))\n",
    "ax.plot(x,psi, label=r'$\\psi_{ast}$')\n",
    "ax.plot(x,psif, label=r'$\\phi$')\n",
    "ax.plot(x,psifminus, label=r'$1-\\phi$')\n",
    "\n",
    "#ax.plot(w,delta_m2_data,lw=1,c='#e41a1c')\n",
    "#ax.plot(w2,data2,lw=1,c='#e41a1c')\n",
    "\n",
    "#ax.vlines(2,-1,10,colors='grey',linestyles='--')\n",
    "#ax.text(2.1,0.3, r'$\\omega = 2 m$')\n",
    "#ax.axhline(2,-1,10,color='grey',ls='--')\n",
    "#ax.text(1.2,2.1, r'$\\hat \\Delta^{*2} = 2$')\n",
    "#ax.text(2.1,4, r'$\\approx \\frac{1}{\\sqrt{\\omega}}$')\n",
    "#ax.text(5,2.1, r'$\\approx 2$')\n",
    "\n",
    "\n",
    "ax.spines['left'].set_position(('data',-5))\n",
    "ax.spines['bottom'].set_position('zero')\n",
    "\n",
    "plt.xticks([0,0.5], [r'$t_0$',r'$t$'])\n",
    "plt.yticks([1], [\"1\"])\n",
    "ax.vlines(0.5,-1,10,colors='grey',linestyles='--')\n",
    "\n",
    "ax.set_xlim([-6,8])\n",
    "ax.set_ylim([-0.1,2.3])\n",
    "\n",
    "arrowed_spines(ax=ax,labels=(r'$t$',r'$ f$'))\n",
    "\n",
    "leg = ax.legend(loc=1)\n",
    "leg.get_frame().set_linewidth(0.5)\n",
    "\n",
    "#fig.tight_layout()\n",
    "fig.savefig(\"smart_decomposition.pgf\")\n",
    "fig.savefig(\"smart_decomposition.pdf\")"
   ]
  },
  {
   "cell_type": "markdown",
   "metadata": {},
   "source": [
    "# Plots für $supp ~(\\hat \\psi_{ast})$"
   ]
  },
  {
   "cell_type": "code",
   "execution_count": 7,
   "metadata": {},
   "outputs": [
    {
     "data": {
      "image/png": "[encoded data removed]",
      "text/plain": [
       "<matplotlib.figure.Figure at 0x7f5855512f28>"
      ]
     },
     "metadata": {},
     "output_type": "display_data"
    }
   ],
   "source": [
    "k = np.linspace(-40,40,200)\n",
    "\n",
    "fig, ax = plt.subplots(figsize=(4,2))\n",
    "ax.plot(k,k, ls='--', color='grey')\n",
    "ax.plot(k,-k, ls='--', color='grey')\n",
    "\n",
    "arrowprops = dict(arrowstyle='->', facecolor='black', linewidth='0.5')\n",
    "draw_support(ax, a=1, s=0)\n",
    "ax.annotate(r\"$a = 1, s = 0$\", (-3/2,3/2), xytext=(-15, 3/2),xycoords='data',arrowprops=arrowprops)\n",
    "draw_support(ax, a=0.15, s=0)\n",
    "ax.annotate(r\"$a = 0.15, s = 0$\", (-4.5,9), xytext=(-20,9),xycoords='data',arrowprops=arrowprops)\n",
    "draw_support(ax, a=0.15, s=1)\n",
    "ax.annotate(r\"$a = 0.15, s = 1$\", (10,7), xytext=(12,2),xycoords='data',arrowprops=arrowprops)\n",
    "\n",
    "ax.spines['left'].set_position('zero')\n",
    "ax.spines['bottom'].set_position('zero')\n",
    "ax.set_xticks([])\n",
    "ax.set_yticks([])\n",
    "arrowed_spines(ax=ax,labels=(r'$k_2 / k$',r'$k_1 / \\omega$'))\n",
    "\n",
    "ax.set_xlim([-20,20])\n",
    "ax.set_ylim([-2,18])\n",
    "\n",
    "#fig.tight_layout()\n",
    "\n",
    "fig.savefig(\"supp_psi.pgf\")\n",
    "fig.savefig(\"supp_psi.pdf\")"
   ]
  },
  {
   "cell_type": "code",
   "execution_count": 8,
   "metadata": {},
   "outputs": [
    {
     "data": {
      "image/png": "[encoded data removed]",
      "text/plain": [
       "<matplotlib.figure.Figure at 0x7f5857568c88>"
      ]
     },
     "metadata": {},
     "output_type": "display_data"
    }
   ],
   "source": [
    "k = np.linspace(-40,40,200)\n",
    "\n",
    "fig, ax = plt.subplots(figsize=(4,2))\n",
    "ax.plot(k,k, ls='--', color='grey')\n",
    "ax.plot(k,-k, ls='--', color='grey')\n",
    "\n",
    "arrowprops = dict(arrowstyle='->', facecolor='black', linewidth='0.5')\n",
    "draw_support(ax, a=1, s=0)\n",
    "draw_support(ax, a=0.1, s=1)\n",
    "ax.annotate(r\"${\\cdot}$\", (0,1), xytext=(15,15),xycoords='data',arrowprops=arrowprops)\n",
    "ax.text(4,3,\"Substitution 1\")\n",
    "\n",
    "ax.spines['left'].set_position('zero')\n",
    "ax.spines['bottom'].set_position('zero')\n",
    "ax.set_xticks([])\n",
    "ax.set_yticks([])\n",
    "arrowed_spines(ax=ax,labels=(r'$k$',r'$\\omega$'))\n",
    "\n",
    "ax.set_xlim([-20,20])\n",
    "ax.set_ylim([-2,18])\n",
    "\n",
    "fig.tight_layout()\n",
    "\n",
    "fig.savefig(\"supp_psi_substitution1.pgf\")\n",
    "fig.savefig(\"supp_psi_substitution1.pdf\")"
   ]
  },
  {
   "cell_type": "code",
   "execution_count": 9,
   "metadata": {},
   "outputs": [
    {
     "data": {
      "image/png": "[encoded data removed]",
      "text/plain": [
       "<matplotlib.figure.Figure at 0x7f586c98dbe0>"
      ]
     },
     "metadata": {},
     "output_type": "display_data"
    }
   ],
   "source": [
    "k = np.linspace(-40,40,200)\n",
    "\n",
    "fig, ax = plt.subplots(figsize=(4,2))\n",
    "ax.plot(k,k, ls='--', color='grey')\n",
    "ax.plot(k,-k, ls='--', color='grey')\n",
    "\n",
    "arrowprops = dict(arrowstyle='->', facecolor='black', linewidth='0.5')\n",
    "#draw_support(ax, a=1, s=0)\n",
    "\n",
    "ax.fill([-1,-1,1,1],[0.5,2,2,0.5], lw=0.5, ls='-',fc=(0.5, 0.5, 0.5, 0.5), ec='black', fill=True, aa=True)\n",
    "draw_support(ax, a=0.1, s=1)\n",
    "ax.annotate(r\"${\\cdot}$\", (0,1), xytext=(15,15),xycoords='data',arrowprops=arrowprops)\n",
    "ax.text(4,3,\"Substitution 1\")\n",
    "\n",
    "ax.spines['left'].set_position('zero')\n",
    "ax.spines['bottom'].set_position('zero')\n",
    "ax.set_xticks([])\n",
    "ax.set_yticks([])\n",
    "arrowed_spines(ax=ax,labels=(r'$k$',r'$\\omega$'))\n",
    "\n",
    "ax.set_xlim([-20,20])\n",
    "ax.set_ylim([-2,18])\n",
    "\n",
    "fig.tight_layout()\n",
    "\n",
    "fig.savefig(\"supp_psi_substitution2.pgf\")\n",
    "fig.savefig(\"supp_psi_substitution2.pdf\")"
   ]
  },
  {
   "cell_type": "code",
   "execution_count": 28,
   "metadata": {},
   "outputs": [
    {
     "data": {
      "image/png": "[encoded data removed]",
      "text/plain": [
       "<matplotlib.figure.Figure at 0x7f586f9b0ba8>"
      ]
     },
     "metadata": {},
     "output_type": "display_data"
    }
   ],
   "source": [
    "ko = np.linspace(2,6,20)\n",
    "ku = np.linspace(-6,-2,20)\n",
    "\n",
    "fig, ax = plt.subplots(figsize=(3,3))\n",
    "ax.plot(ko,ko, ls='--', color='grey')\n",
    "ax.plot(ko,-ko, ls='--', color='grey')\n",
    "ax.plot(ku,ku, ls='--', color='grey')\n",
    "ax.plot(ku,-ku, ls='--', color='grey')\n",
    "\n",
    "ax.vlines((-2,2),-2,2,colors='grey',linestyles='--')\n",
    "ax.text(0.3,4, r'$C = C^{(1)}$')\n",
    "ax.text(-4,0.3, r'$C^{(2)}$')\n",
    "ax.text(0.3,-4, r'$C^{(3)}$')\n",
    "ax.text(3.5,0.3, r'$C^{(4)}$')\n",
    "ax.text(-1.6,0.3, r'grobe Skalen')\n",
    "ax.axhline(2,1/3,2/3,color='grey',ls='--')\n",
    "ax.axhline(-2,1/3,2/3,color='grey',ls='--')\n",
    "\n",
    "\n",
    "ax.spines['left'].set_position('zero')\n",
    "ax.spines['bottom'].set_position('zero')\n",
    "ax.set_xticks([])\n",
    "ax.set_yticks([])\n",
    "arrowed_spines(ax=ax,labels=(r'$k_2$',r'$k_1$'))\n",
    "\n",
    "ax.set_xlim([-6,6])\n",
    "ax.set_ylim([-6,6])\n",
    "\n",
    "fig.tight_layout()\n",
    "\n",
    "fig.savefig(\"quadrants.pgf\")\n",
    "fig.savefig(\"quadrants.pdf\")"
   ]
  },
  {
   "cell_type": "code",
   "execution_count": 14,
   "metadata": {},
   "outputs": [],
   "source": [
    "ax.axhline?"
   ]
  },
  {
   "cell_type": "markdown",
   "metadata": {},
   "source": [
    "# Plots für $\\Delta_m$"
   ]
  },
  {
   "cell_type": "code",
   "execution_count": 6,
   "metadata": {},
   "outputs": [],
   "source": [
    "def omega(k,m):\n",
    "    return np.sqrt(k**2+m**2)"
   ]
  },
  {
   "cell_type": "code",
   "execution_count": 7,
   "metadata": {},
   "outputs": [
    {
     "name": "stderr",
     "output_type": "stream",
     "text": [
      "/usr/lib/python3.6/site-packages/matplotlib/font_manager.py:1328: UserWarning: findfont: Font family ['serif'] not found. Falling back to DejaVu Sans\n",
      "  (prop.get_family(), self.defaultFamily[fontext]))\n"
     ]
    },
    {
     "data": {
      "image/png": "[encoded data removed]",
      "text/plain": [
       "<Figure size 360x198 with 1 Axes>"
      ]
     },
     "metadata": {},
     "output_type": "display_data"
    }
   ],
   "source": [
    "m=5\n",
    "k = np.linspace(-40,40,200)\n",
    "omega_data = omega(k,m)\n",
    "\n",
    "\n",
    "fig, ax = plt.subplots(figsize=(5,2.75))\n",
    "ax.plot(k,omega_data, label=r'$supp (\\Delta_m)$')\n",
    "ax.plot(k,k, ls='--', color='grey')\n",
    "ax.plot(k,-k, ls='--', color='grey')\n",
    "\n",
    "arrowprops = dict(arrowstyle='->', facecolor='black', linewidth='0.5')\n",
    "draw_support(ax, a=0.2, s=-1)\n",
    "ax.annotate(r\"$a = 0.2, s = -1$\", (-10,7), xytext=(-7.5*m,m),xycoords='data',arrowprops=arrowprops)\n",
    "draw_support(ax, a=0.04, s=-1)\n",
    "ax.annotate(r\"$a = 0.04, s = -1$\", (-28,23), xytext=(-7.5*m,2.6*m),xycoords='data',arrowprops=arrowprops)\n",
    "draw_support(ax, a=0.065, s=0.7)\n",
    "ax.annotate(r\"$a = 0.065, s = 0.7$\", (20,31), xytext=(2*m,7.2*m),xycoords='data',arrowprops=arrowprops)\n",
    "\n",
    "ax.spines['left'].set_position('zero')\n",
    "ax.spines['bottom'].set_position('zero')\n",
    "ax.set_xticks([])\n",
    "ax.set_yticks([])\n",
    "\n",
    "ax.set_xlim([-40,40])\n",
    "ax.set_ylim([-1,40])\n",
    "\n",
    "ax.axhline(y=m, xmin=0.5, xmax=.61, color=\"grey\", ls='--')\n",
    "ax.text(2*m, m-0.5, r\"$\\omega = m$\", fontsize=10, color=\"black\")\n",
    "ax.text(5.4*m, 5*m, r\"$supp~(\\hat\\Delta_m)$\", fontsize=10, color=\"black\")\n",
    "\n",
    "arrowed_spines(ax=ax,labels=(r'$k$',r'$\\omega$'))\n",
    "\n",
    "fig.tight_layout()\n",
    "fig.savefig(\"delta_m.pgf\")\n",
    "fig.savefig(\"delta_m.pdf\")"
   ]
  },
  {
   "cell_type": "code",
   "execution_count": 8,
   "metadata": {},
   "outputs": [],
   "source": [
    "ax.annotate?"
   ]
  },
  {
   "cell_type": "markdown",
   "metadata": {},
   "source": [
    "# Plots für  $\\hat{\\Delta_m^2}$"
   ]
  },
  {
   "cell_type": "code",
   "execution_count": 9,
   "metadata": {},
   "outputs": [],
   "source": [
    "def delta_m2(k,w,m):\n",
    "    res = np.heaviside(w**2-k**2-4*m**2,1)*2*(w**2-k**2-3*m**2)/(np.sqrt(w**2-k**2)*np.sqrt(w**2-k**2-4*m**2))\n",
    "    return res\n",
    "\n",
    "def color_picker(y,ymax,ymin):\n",
    "    cmap = matplotlib.cm.get_cmap('viridis')\n",
    "#    print((y-ymin)/(ymax-ymin))\n",
    "    color = cmap((y-ymin)/(ymax-ymin))\n",
    "    return color"
   ]
  },
  {
   "cell_type": "code",
   "execution_count": 10,
   "metadata": {},
   "outputs": [
    {
     "name": "stderr",
     "output_type": "stream",
     "text": [
      "/usr/lib/python3.6/site-packages/ipykernel_launcher.py:2: RuntimeWarning: invalid value encountered in sqrt\n",
      "  \n"
     ]
    }
   ],
   "source": [
    "m=5.0\n",
    "kmax = 40\n",
    "omegamin = -2\n",
    "omegamax = 40\n",
    "k = np.linspace(-40,40,500)\n",
    "w = np.linspace(omegamin,omegamax,500)\n",
    "omega_data = omega(k,m)\n",
    "omega2_data = omega(k,2*m)\n",
    "K,W = np.meshgrid(k, w)\n",
    "delta_m2_data = delta_m2(K,W,m)"
   ]
  },
  {
   "cell_type": "code",
   "execution_count": 11,
   "metadata": {},
   "outputs": [
    {
     "name": "stderr",
     "output_type": "stream",
     "text": [
      "/usr/lib/python3.6/site-packages/matplotlib/font_manager.py:1328: UserWarning: findfont: Font family ['serif'] not found. Falling back to DejaVu Sans\n",
      "  (prop.get_family(), self.defaultFamily[fontext]))\n",
      "/usr/lib/python3.6/site-packages/matplotlib/font_manager.py:1328: UserWarning: findfont: Font family ['serif'] not found. Falling back to DejaVu Sans\n",
      "  (prop.get_family(), self.defaultFamily[fontext]))\n"
     ]
    },
    {
     "data": {
      "image/png": "[encoded data removed]",
      "text/plain": [
       "<Figure size 288x158.4 with 2 Axes>"
      ]
     },
     "metadata": {},
     "output_type": "display_data"
    }
   ],
   "source": [
    "fig, ax = plt.subplots(figsize=(4,2.2))\n",
    "ax.plot(k,omega_data, label=r'$supp ~(\\hat\\Delta_m)$')\n",
    "ax.plot(k,omega2_data,color=color_picker(1,1,0),lw=0.2)\n",
    "ax.plot(k,k, ls='--', color='grey')\n",
    "ax.plot(k,-k, ls='--', color='grey')\n",
    "\n",
    "levels=list(np.logspace(-5,1.7,100))\n",
    "\n",
    "im = ax.imshow(delta_m2_data,vmin=1.5,vmax=4,extent=[-40,40,-2,40],\\\n",
    "               origin='lower',label=r'$\\hat\\Delta_m^{*2}$', interpolation='nearest')\n",
    "#im = ax.pcolormesh(K,W,delta_m2_data,vmin=1.5,vmax=4,\\\n",
    "#               label=r'$\\hat\\Delta_m^{*2}$')\n",
    "\n",
    "draw_support(ax, a=0.04, s=0.3)\n",
    "draw_support(ax, a=0.07, s=-1)\n",
    "\n",
    "ax.set_xlim([-kmax,kmax])\n",
    "ax.set_ylim([omegamin,omegamax])\n",
    "\n",
    "ax.spines['left'].set_position('zero')\n",
    "ax.spines['bottom'].set_position('zero')\n",
    "ax.set_xticks([])\n",
    "ax.set_yticks([])\n",
    "arrowed_spines(ax=ax,labels=(r'$k$',r'$\\omega$'))\n",
    "\n",
    "plt.colorbar(im,shrink=0.7,extend='max')\n",
    "ax.text(4.5*m, 4*m, r\"$supp~(\\hat\\Delta_m)$\", fontsize=10, color=\"black\")\n",
    "ax.text(-2*m, 5*m, r'$\\hat\\Delta_m^{*2}$', fontsize=10, color=\"black\")\n",
    "#leg = ax.legend(loc=1)\n",
    "#leg.get_frame().set_linewidth(0.5)\n",
    "\n",
    "fig.tight_layout()\n",
    "fig.savefig(\"delta_m2.pgf\", dpi=600)\n",
    "fig.savefig(\"delta_m2.pdf\",dpi=600)"
   ]
  },
  {
   "cell_type": "markdown",
   "metadata": {},
   "source": [
    "### $\\left.\\hat \\Delta_m^{* 2}\\right\\vert_{k=0}$"
   ]
  },
  {
   "cell_type": "code",
   "execution_count": 12,
   "metadata": {},
   "outputs": [
    {
     "name": "stderr",
     "output_type": "stream",
     "text": [
      "/usr/lib/python3.6/site-packages/ipykernel_launcher.py:2: RuntimeWarning: invalid value encountered in sqrt\n",
      "  \n",
      "/usr/lib/python3.6/site-packages/matplotlib/font_manager.py:1328: UserWarning: findfont: Font family ['serif'] not found. Falling back to DejaVu Sans\n",
      "  (prop.get_family(), self.defaultFamily[fontext]))\n"
     ]
    },
    {
     "data": {
      "image/png": "[encoded data removed]",
      "text/plain": [
       "<Figure size 288x158.4 with 1 Axes>"
      ]
     },
     "metadata": {},
     "output_type": "display_data"
    }
   ],
   "source": [
    "w = np.linspace(0,10,1000)\n",
    "w2 = np.linspace(-2,2,10)\n",
    "data2 = np.zeros_like(w2)\n",
    "delta_m2_data=delta_m2(0,w,1)\n",
    "#delta_m2_data[0:200] = 0.0\n",
    "fig, ax = plt.subplots(figsize=(4,2.2))\n",
    "ax.plot(w,delta_m2_data,lw=1,c='#e41a1c')\n",
    "ax.plot(w2,data2,lw=1,c='#e41a1c')\n",
    "\n",
    "ax.vlines(2,-1,10,colors='grey',linestyles='--')\n",
    "ax.text(2.1,0.3, r'$\\omega = 2 m$')\n",
    "ax.axhline(2,-1,10,color='grey',ls='--')\n",
    "ax.text(1.2,2.1, r'$\\hat \\Delta^{*2} = 2$')\n",
    "ax.text(2.1,4, r'$\\approx \\frac{1}{\\sqrt{\\omega}}$')\n",
    "ax.text(5,2.1, r'$\\approx 2$')\n",
    "\n",
    "\n",
    "ax.spines['left'].set_position(('data',1.5))\n",
    "ax.spines['bottom'].set_position('zero')\n",
    "ax.set_xticks([])\n",
    "ax.set_yticks([])\n",
    "\n",
    "ax.set_xlim([1.25,6])\n",
    "ax.set_ylim([-0.5,10])\n",
    "\n",
    "arrowed_spines(ax=ax,labels=(r'$\\omega$',r'$\\hat\\Delta^{*2} ~(\\omega, 0)$'))\n",
    "\n",
    "fig.tight_layout()\n",
    "fig.savefig(\"delta_m2_k0.pgf\")\n",
    "fig.savefig(\"delta_m2_k0.pdf\")"
   ]
  },
  {
   "cell_type": "code",
   "execution_count": 15,
   "metadata": {},
   "outputs": [
    {
     "name": "stderr",
     "output_type": "stream",
     "text": [
      "/usr/lib/python3.6/site-packages/matplotlib/font_manager.py:1328: UserWarning: findfont: Font family ['serif'] not found. Falling back to DejaVu Sans\n",
      "  (prop.get_family(), self.defaultFamily[fontext]))\n",
      "/usr/lib/python3.6/site-packages/matplotlib/font_manager.py:1328: UserWarning: findfont: Font family ['serif'] not found. Falling back to DejaVu Sans\n",
      "  (prop.get_family(), self.defaultFamily[fontext]))\n",
      "/usr/lib/python3.6/site-packages/matplotlib/font_manager.py:1328: UserWarning: findfont: Font family ['serif'] not found. Falling back to DejaVu Sans\n",
      "  (prop.get_family(), self.defaultFamily[fontext]))\n",
      "/usr/lib/python3.6/site-packages/matplotlib/font_manager.py:1328: UserWarning: findfont: Font family ['serif'] not found. Falling back to DejaVu Sans\n",
      "  (prop.get_family(), self.defaultFamily[fontext]))\n"
     ]
    },
    {
     "data": {
      "image/png": "[encoded data removed]",
      "text/plain": [
       "<Figure size 288x216 with 1 Axes>"
      ]
     },
     "metadata": {},
     "output_type": "display_data"
    }
   ],
   "source": [
    "m=1\n",
    "E = 4\n",
    "p = 0\n",
    "\n",
    "k = np.linspace(-15,15,500)\n",
    "inverted_mass_shell = E-omega(p-k,m)\n",
    "mass_shell = omega(k, m)\n",
    "\n",
    "fig, ax = plt.subplots(figsize=(4,3))\n",
    "label1 = r\"$\\omega^{\\prime 2} = k^{\\prime} + m^2, \\omega^{\\prime} > 0$\"\n",
    "label2 = r\"$(\\omega - \\omega^{\\prime})^2 = (k-k^{\\prime})^2 + m^2, \\omega - \\omega^{\\prime} > 0$\"\n",
    "ax.plot(k,inverted_mass_shell, label=label2)\n",
    "ax.plot(k,mass_shell, label=label1)\n",
    "\n",
    "ax.plot(k,k, ls='--', color='grey')\n",
    "ax.plot(k,-k, ls='--', color='grey')\n",
    "ax.plot(p-k,E-k, ls='--', color='grey')\n",
    "ax.plot(p-k,E+k, ls='--', color='grey')\n",
    "\n",
    "#arrowprops = dict(arrowstyle='<-', facecolor='black', linewidth='0.5')\n",
    "#ax.annotate(r\"$(k, \\omega)$\", (0,0), xytext=(p-0.45,E+0.2),xycoords='data',arrowprops=arrowprops)\n",
    "\n",
    "ax.spines['left'].set_position('zero')\n",
    "ax.spines['bottom'].set_position('zero')\n",
    "ylabels=[r'$m$',r\"$\\omega/2 = \\omega^\\prime_0$\", r'$\\omega - m$', r'$\\omega$']\n",
    "xlabels=[r\"$k^\\prime_{0-} = -\\sqrt{\\left(\\frac{\\omega}{2}\\right)^2-m^2}$\",\\\n",
    "         r\"$k^\\prime_{0+} = \\sqrt{\\left(\\frac{\\omega}{2}\\right)^2-m^2}$\"]\n",
    "plt.yticks([m,E/2,E-m,E],ylabels)\n",
    "plt.xticks([-np.sqrt((E/2)**2-m**2),np.sqrt((E/2)**2-m**2)],xlabels)\n",
    "ax.vlines((-np.sqrt((E/2)**2-m**2),+np.sqrt((E/2)**2-m**2)),0,E/2,colors='grey',linestyles='--')\n",
    "\n",
    "ax.set_xlim([-4,4])\n",
    "ax.set_ylim([-1,5])\n",
    "\n",
    "arrowed_spines(ax=ax,labels=(r\"$k^{\\prime}$\",r\"$\\omega^{\\prime}$\"))\n",
    "#leg = ax.legend(loc=3)\n",
    "#leg.get_frame().set_linewidth(0.0)\n",
    "\n",
    "fig.tight_layout()\n",
    "fig.savefig(\"mass_shell_convolution.pdf\")\n",
    "fig.savefig(\"mass_shell_convolution.pgf\")"
   ]
  },
  {
   "cell_type": "code",
   "execution_count": null,
   "metadata": {},
   "outputs": [],
   "source": [
    "x = np.linspace(-1,1,100)\n",
    "l1 = 0.8 + x\n",
    "l2 = -0.8 + x\n",
    "l3 = 0.8 - x\n",
    "l4 = -0.8 - x\n",
    "\n",
    "fig, ax = plt.subplots(figsize=(4,3))\n",
    "ax.plot(x,l1,c=colors[1],lw=1)\n",
    "ax.plot(x,l2,c=colors[1],lw=1)\n",
    "ax.plot(x,l3,c=colors[0],lw=1)\n",
    "ax.plot(x,l4,c=colors[0],lw=1)\n",
    "ax.plot([-.58,0],[-.22,.8],lw=0.5,c='grey')\n",
    "\n",
    "ax.axhline(-0.8,0.5,0.9,color='grey',ls='-')\n",
    "ax.axvline(0.8,0.1,0.5, color='grey')\n",
    "ax.text(0.4,-0.93,r\"d$k^\\prime$\")\n",
    "ax.text(0.82,-0.45,r\"d$\\omega^\\prime$\")\n",
    "ax.text(0.1,-.77,r\"$\\alpha$\")\n",
    "ax.text(-.72,-.03,r\"$2 \\alpha$\")\n",
    "ax.text(-.45,.45,r\"$l$\")\n",
    "ax.text(-.25,.25,r\"$h$\")\n",
    "\n",
    "ax.spines['left'].set_position('zero')\n",
    "ax.spines['bottom'].set_position('zero')\n",
    "\n",
    "ax.spines['left'].set_visible(False)\n",
    "ax.spines['bottom'].set_visible(False)\n",
    "ax.set_xticks([])\n",
    "ax.set_yticks([])\n",
    "\n",
    "ax.set_xlim([-1,1])\n",
    "ax.set_ylim([-1,1])\n",
    "\n",
    "fig.tight_layout()\n",
    "fig.savefig(\"schulgeometrie.pdf\")\n",
    "fig.savefig(\"schulgeometrie.pgf\")"
   ]
  },
  {
   "cell_type": "code",
   "execution_count": null,
   "metadata": {},
   "outputs": [],
   "source": []
  },
  {
   "cell_type": "markdown",
   "metadata": {},
   "source": [
    "# Plots für $\\hat\\Delta_m^{\\circledast 2}$"
   ]
  },
  {
   "cell_type": "code",
   "execution_count": null,
   "metadata": {},
   "outputs": [],
   "source": [
    "def delta_m2(k,w,m):\n",
    "    return np.heaviside(w**2-k**2-4*m**2,1)*2*(w**2-k**2-3*m**2)/(np.sqrt(w**2-k**2)*np.sqrt(w**2-k**2-4*m**2))\n",
    "    \n",
    "def phi(k,w,m):\n",
    "    return(0.5*(k**2-w**2)*np.sqrt(1.0/4+m**2/(k**2-w**2)))\n",
    "\n",
    "def delta_m2_twisted(k,w,m):\n",
    "    return delta_m2(k,w,m)*np.cos(phi(k,w,m))\n",
    "\n",
    "def color_picker(y,ymax,ymin):\n",
    "    cmap = matplotlib.cm.get_cmap('viridis')\n",
    "#    print((y-ymin)/(ymax-ymin))\n",
    "    color = cmap((y-ymin)/(ymax-ymin))\n",
    "    return color"
   ]
  },
  {
   "cell_type": "code",
   "execution_count": null,
   "metadata": {},
   "outputs": [],
   "source": [
    "m=2.0\n",
    "kmax = 20\n",
    "omegamin = -1\n",
    "omegamax = 20\n",
    "k = np.linspace(-20,20,500)\n",
    "w = np.linspace(omegamin,omegamax,500)\n",
    "omega_data = omega(k,m)\n",
    "omega2_data = omega(k,2*m)\n",
    "K,W = np.meshgrid(k, w)\n",
    "delta_m2_data = delta_m2_twisted(K,W,m)"
   ]
  },
  {
   "cell_type": "code",
   "execution_count": null,
   "metadata": {},
   "outputs": [],
   "source": [
    "fig, ax = plt.subplots(figsize=(4,2.2))\n",
    "ax.plot(k,omega_data, label=r'$supp ~(\\hat\\Delta_m)$')\n",
    "ax.plot(k,omega2_data,color=color_picker(1,1,0),lw=0.2)\n",
    "ax.plot(k,k, ls='--', color='grey')\n",
    "ax.plot(k,-k, ls='--', color='grey')\n",
    "\n",
    "im = ax.imshow(delta_m2_data,vmin=-4,vmax=4,extent=[-20,20,-1,20], origin='lower',\\\n",
    "               label=r'$\\hat\\Delta_m^{\\circledast 2}$',alpha=1)\n",
    "    \n",
    "#draw_support(ax, a=0.04, s=0.3)\n",
    "#draw_support(ax, a=0.07, s=-1)\n",
    "\n",
    "ax.set_xlim([-kmax,kmax])\n",
    "ax.set_ylim([omegamin,omegamax])\n",
    "\n",
    "ax.spines['left'].set_position('zero')\n",
    "ax.spines['bottom'].set_position('zero')\n",
    "ax.set_xticks([])\n",
    "ax.set_yticks([])\n",
    "arrowed_spines(ax=ax,labels=(r'$k$',r'$\\omega$'))\n",
    "\n",
    "plt.colorbar(im,shrink=0.7,extend='max')\n",
    "ax.text(4.5*m, 4*m, r\"$supp~(\\hat\\Delta_m)$\", fontsize=10, color=\"black\")\n",
    "ax.text(-2*m, 5*m, r\"$\\hat\\Delta_m^{\\circledast 2}$\", fontsize=10, color=\"black\")\n",
    "\n",
    "fig.tight_layout()\n",
    "fig.savefig(\"delta_m2_twisted.pgf\",dpi=600)\n",
    "fig.savefig(\"delta_m2_twisted.pdf\",dpi=600)"
   ]
  },
  {
   "cell_type": "code",
   "execution_count": null,
   "metadata": {},
   "outputs": [],
   "source": [
    "w = np.linspace(0,10,1000)\n",
    "w2 = np.linspace(-2,2,10)\n",
    "data2 = np.zeros_like(w2)\n",
    "delta_m2_data=delta_m2_twisted(0,w,1)\n",
    "#delta_m2_data[0:200] = 0.0\n",
    "fig, ax = plt.subplots(figsize=(4,2.2))\n",
    "ax.plot(w,delta_m2_data,lw=1,c='#e41a1c')\n",
    "ax.plot(w2,data2,lw=1,c='#e41a1c')\n",
    "\n",
    "ax.vlines(2,-2.5,10,colors='grey',linestyles='--')\n",
    "ax.text(2.1,-1.5, r'$\\omega = 2 m$')\n",
    "ax.axhline(2,-1,10,color='grey',ls='--')\n",
    "#ax.text(1.2,2.1, r'$\\hat \\Delta^{*2} = 2$')\n",
    "ax.text(2.1,4, r'$\\approx \\frac{1}{\\sqrt{\\omega}}$')\n",
    "ax.text(7,2.2, r'$\\approx 2 \\cos\\left(\\frac{\\omega^2}{2}\\right)$')\n",
    "\n",
    "\n",
    "ax.spines['left'].set_position(('data',1.5))\n",
    "ax.spines['bottom'].set_position('zero')\n",
    "ax.set_xticks([])\n",
    "ax.set_yticks([])\n",
    "\n",
    "ax.set_xlim([1.25,10])\n",
    "ax.set_ylim([-2.5,10])\n",
    "\n",
    "\n",
    "arrowed_spines(ax=ax,labels=(r'$\\omega$',r'$\\hat\\Delta^{\\circledast 2} ~(\\omega, 0)$'))\n",
    "#leg = ax.legend(loc=1)\n",
    "#leg.get_frame().set_linewidth(0.5)\n",
    "\n",
    "fig.tight_layout()\n",
    "\n",
    "fig.savefig(\"delta_m2_twisted_k0.pgf\")\n",
    "fig.savefig(\"delta_m2_twisted_k0.pdf\")"
   ]
  },
  {
   "cell_type": "code",
   "execution_count": null,
   "metadata": {},
   "outputs": [],
   "source": []
  },
  {
   "cell_type": "code",
   "execution_count": null,
   "metadata": {},
   "outputs": [],
   "source": []
  }
 ],
 "metadata": {
  "kernelspec": {
   "display_name": "Python 3",
   "language": "python",
   "name": "python3"
  },
  "language_info": {
   "codemirror_mode": {
    "name": "ipython",
    "version": 3
   },
   "file_extension": ".py",
   "mimetype": "text/x-python",
   "name": "python",
   "nbconvert_exporter": "python",
   "pygments_lexer": "ipython3",
   "version": "3.6.3"
  }
 },
 "nbformat": 4,
 "nbformat_minor": 2
}
