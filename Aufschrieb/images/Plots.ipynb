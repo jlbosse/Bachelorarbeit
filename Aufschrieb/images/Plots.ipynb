{
 "cells": [
  {
   "cell_type": "code",
   "execution_count": 1,
   "metadata": {},
   "outputs": [],
   "source": [
    "#Plotten\n",
    "import matplotlib.pyplot as plt\n",
    "from matplotlib.backends.backend_pdf import PdfPages\n",
    "%matplotlib inline\n",
    "\n",
    "#Numerisches Rechnen\n",
    "import numpy as np\n",
    "\n",
    "plt.rc('font', **{'family': 'serif', 'serif': ['Computer Modern']})\n",
    "plt.rc('text', usetex=True)"
   ]
  },
  {
   "cell_type": "code",
   "execution_count": 22,
   "metadata": {},
   "outputs": [],
   "source": [
    "def figsize(scale):\n",
    "    fig_width_pt = 469.755                          # Get this from LaTeX using \\the\\textwidth\n",
    "    inches_per_pt = 1.0/72.27                       # Convert pt to inch\n",
    "    golden_mean = (np.sqrt(5.0)-1.0)/2.0            # Aesthetic ratio (you could change this)\n",
    "    fig_width = fig_width_pt*inches_per_pt*scale    # width in inches\n",
    "    fig_height = fig_width*golden_mean              # height in inches\n",
    "    fig_size = [fig_width,fig_height]\n",
    "    return fig_size\n",
    "\n",
    "\n",
    "pgf_with_latex = {                      # setup matplotlib to use latex for output\n",
    "    \"pgf.texsystem\": \"pdflatex\",        # change this if using xetex or lautex\n",
    "    \"text.usetex\": True,                # use LaTeX to write all text\n",
    "    \"font.family\": \"serif\",\n",
    "    \"font.serif\": [],                   # blank entries should cause plots\n",
    "                                        #to inherit fonts from the document\n",
    "    \"font.sans-serif\": [],\n",
    "    \"font.monospace\": [],\n",
    "    \"axes.labelsize\": 10,               # LaTeX default is 10pt font.\n",
    "    \"font.size\": 10,\n",
    "    \"legend.fontsize\": 10,               # Make the legend/label fonts a little smaller\n",
    "    \"xtick.labelsize\": 10,\n",
    "    \"ytick.labelsize\": 10,\n",
    "    \"pgf.rcfonts\" : False,\n",
    "    \"lines.linewidth\" : 0.5,\n",
    "    \"axes.linewidth\" : 0.5,\n",
    "#    \"axes.linestyle\" : '.',\n",
    "    \"axes.spines.right\" : False,\n",
    "    \"axes.spines.top\" : False,\n",
    "    \"axes.grid\"           : False,\n",
    "    \"grid.linestyle\": 'dotted',\n",
    "    \"grid.color\"       :   '#808080',\n",
    "    \"legend.frameon\" : True,\n",
    "    \"axes.prop_cycle\" : plt.cycler('color', ['#e41a1c', '#377eb8', '#4daf4a', '#984ea3', '#ff7f00']),\n",
    "\n",
    "    \"figure.figsize\": figsize(1.0),     # default fig size of 0.9 textwidth\n",
    "    \"pgf.preamble\": [\n",
    "        r\"\\usepackage[utf8x]{inputenc}\",    # use utf8 fonts becasue your computer can handle it :)\n",
    "        r\"\\usepackage[T1]{fontenc}\",        # plots will be generated using this preamble\n",
    "        ]\n",
    "    }\n",
    "\n",
    "plt.matplotlib.rcParams.update(pgf_with_latex)\n"
   ]
  },
  {
   "cell_type": "code",
   "execution_count": 87,
   "metadata": {},
   "outputs": [],
   "source": [
    "def arrowed_spines(ax=None, arrow_length=20, labels=('', ''), arrowprops=None):\n",
    "    xlabel, ylabel = labels\n",
    "    if ax is None:\n",
    "        ax = plt.gca()\n",
    "    if arrowprops is None:\n",
    "        arrowprops = dict(arrowstyle='<-', facecolor='black', linewidth='0.5', shrinkB=20)\n",
    "\n",
    "    for i, spine in enumerate(['left', 'bottom']):\n",
    "        # Set up the annotation parameters\n",
    "        t = ax.spines[spine].get_transform()\n",
    "        xy, xycoords = [1, 0], ('axes fraction', t)\n",
    "        xytext, textcoords = [arrow_length, 0], ('offset points', t)\n",
    "        ha, va = 'left', 'bottom'\n",
    "\n",
    "        # If axis is reversed, draw the arrow the other way\n",
    "        bottom, top = ax.spines[spine].axis.get_view_interval()\n",
    "        if top < bottom:\n",
    "            xy[0] = 0\n",
    "            xytext[0] *= -1\n",
    "            ha, va = 'right', 'top'\n",
    "\n",
    "        if spine is 'bottom':\n",
    "            xarrow = ax.annotate(xlabel, xy, xycoords=xycoords, xytext=xytext, \n",
    "                        textcoords=textcoords, ha=ha, va='center',\n",
    "                        arrowprops=arrowprops)\n",
    "        else:\n",
    "            yarrow = ax.annotate(ylabel, xy[::-1], xycoords=xycoords[::-1], \n",
    "                        xytext=xytext[::-1], textcoords=textcoords[::-1], \n",
    "                        ha='center', va=va, arrowprops=arrowprops)\n",
    "    return xarrow, yarrow"
   ]
  },
  {
   "cell_type": "code",
   "execution_count": 88,
   "metadata": {},
   "outputs": [],
   "source": [
    "ax.annotate?"
   ]
  },
  {
   "cell_type": "markdown",
   "metadata": {},
   "source": [
    "# Plots für $\\Delta_m$"
   ]
  },
  {
   "cell_type": "code",
   "execution_count": 92,
   "metadata": {},
   "outputs": [
    {
     "name": "stderr",
     "output_type": "stream",
     "text": [
      "/usr/lib/python3.6/site-packages/matplotlib/font_manager.py:1328: UserWarning: findfont: Font family ['serif'] not found. Falling back to DejaVu Sans\n",
      "  (prop.get_family(), self.defaultFamily[fontext]))\n"
     ]
    },
    {
     "data": {
      "image/png": "[encoded data removed]",
      "text/plain": [
       "<Figure size 720x432 with 1 Axes>"
      ]
     },
     "metadata": {},
     "output_type": "display_data"
    }
   ],
   "source": [
    "m=1\n",
    "k = np.linspace(-5,5,200)\n",
    "omega = np.sqrt(k**2+m**2)\n",
    "\n",
    "\n",
    "fig, ax = plt.subplots(figsize=(10,6))\n",
    "ax.plot(k,omega)\n",
    "ax.plot(k,k, ls='--', color='grey')\n",
    "ax.plot(k,-k, ls='--', color='grey')\n",
    "\n",
    "ax.spines['left'].set_position('zero')\n",
    "ax.spines['bottom'].set_position('zero')\n",
    "ax.set_xticks([])\n",
    "ax.set_yticks([])\n",
    "\n",
    "ax.set_xlim([-5,5])\n",
    "ax.set_ylim([-1,5])\n",
    "#ax.set_xlabel(r'$k$')\n",
    "#ax.set_ylabel(r'$\\omega$', rotation=0)\n",
    "\n",
    "ax.axhline(y=1, xmin=0.5, xmax=.65, color=\"grey\", ls='--')\n",
    "ax.text(1.5, .94, r\"$\\omega = m$\", fontsize=10, color=\"black\")\n",
    "\n",
    "#ax.xaxis.set_label_coords(0.95, 1/6 + 0.05)\n",
    "#ax.yaxis.set_label_coords(0.55, 0.95)\n",
    "\n",
    "#ax.set_yticklabels([])\n",
    "#ax.xaxis.set_ticks_position('bottom')\n",
    "#ax.yaxis.set_ticks_position('left')\n",
    "#fig.tight_layout()\n",
    "\n",
    "arrowed_spines(ax=ax, labels=(r'$k$',r'$\\omega$'))\n",
    "\n",
    "\n",
    "fig.savefig(\"delta_m.pgf\")\n",
    "fig.savefig(\"delta_m.pdf\")"
   ]
  },
  {
   "cell_type": "code",
   "execution_count": 60,
   "metadata": {},
   "outputs": [],
   "source": [
    "plt.Line2D.set_linestyle?"
   ]
  },
  {
   "cell_type": "code",
   "execution_count": null,
   "metadata": {},
   "outputs": [],
   "source": []
  }
 ],
 "metadata": {
  "kernelspec": {
   "display_name": "Python 3",
   "language": "python",
   "name": "python3"
  },
  "language_info": {
   "codemirror_mode": {
    "name": "ipython",
    "version": 3
   },
   "file_extension": ".py",
   "mimetype": "text/x-python",
   "name": "python",
   "nbconvert_exporter": "python",
   "pygments_lexer": "ipython3",
   "version": "3.6.5"
  }
 },
 "nbformat": 4,
 "nbformat_minor": 2
}
